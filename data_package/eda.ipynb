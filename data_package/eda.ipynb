{
 "cells": [
  {
   "cell_type": "code",
   "execution_count": 2,
   "metadata": {},
   "outputs": [],
   "source": [
    "from sklearn.feature_extraction.text import TfidfVectorizer\n",
    "from sklearn.cluster import KMeans\n",
    "from torch import cosine_similarity\n",
    "from preprocess import preprocessing\n",
    "import json\n",
    "import pandas as pd\n",
    "import matplotlib.pyplot as plt\n",
    "from sklearn.metrics.pairwise import cosine_similarity\n",
    "from sklearn.manifold import MDS\n",
    "from sklearn.decomposition import TruncatedSVD"
   ]
  },
  {
   "cell_type": "code",
   "execution_count": 24,
   "metadata": {},
   "outputs": [],
   "source": [
    "def prep_code_to_publication_year():\n",
    "    merged_file = 'data/merged_form.csv'\n",
    "    df = pd.read_csv(merged_file)\n",
    "\n",
    "    code_to_publication_year = {}\n",
    "    for _, row in df.iterrows():\n",
    "        story_code = row['Story Code']\n",
    "        year = row['publication_year']\n",
    "        code_to_publication_year[story_code] = year\n",
    "\n",
    "    return code_to_publication_year\n",
    "\n",
    "def prep_cluster_result():\n",
    "    code_to_partitions, code_to_plain_text = preprocessing()\n",
    "    print(\"-----Start calculating tf-idf score-----\")\n",
    "    corpus = [text for text in code_to_plain_text.values()]\n",
    "    story_codes = [code for code in code_to_plain_text.keys()]\n",
    "    vectorizer = TfidfVectorizer(\n",
    "        max_df = 0.7,\n",
    "        min_df = 0.3,\n",
    "        ngram_range=(1,3)\n",
    "    )\n",
    "\n",
    "    tfidf_matrix = vectorizer.fit_transform(corpus)\n",
    "    feature_words = vectorizer.get_feature_names()\n",
    "    print(len(feature_words))\n",
    "    print(tfidf_matrix.shape)\n",
    "    dist = 1 - cosine_similarity(tfidf_matrix)\n",
    "\n",
    "    num_clusters = 3\n",
    "    km = KMeans(n_clusters = num_clusters)\n",
    "    km.fit(tfidf_matrix)\n",
    "    clusters = km.labels_.tolist()\n",
    "    \n",
    "    code_to_publication_year = prep_code_to_publication_year()\n",
    "    code_to_cluster = {}\n",
    "    for story_code, cluster in zip(story_codes, clusters):\n",
    "        code_to_cluster[story_code] = {'publication_year': int(code_to_publication_year[story_code]), 'group': cluster}\n",
    "\n",
    "    with open(\"cluster_result.json\", 'w') as file:\n",
    "        json.dump(code_to_cluster, file)\n",
    "    print(\"-----End dumping the cluster result json file.-----\")\n",
    "\n",
    "    print(\"Top terms per cluster:\")\n",
    "\n",
    "    order_centroids = km.cluster_centers_.argsort()[:, ::-1]\n",
    "    clusters_top_words = []\n",
    "    for i in range(num_clusters):\n",
    "        print(f\"Cluster {i} words:\")\n",
    "        top_words = [feature_words[ind] for ind in order_centroids[i, :10]]\n",
    "        clusters_top_words.append(top_words)\n",
    "    return tfidf_matrix, dist, clusters_top_words"
   ]
  },
  {
   "cell_type": "code",
   "execution_count": 25,
   "metadata": {},
   "outputs": [
    {
     "name": "stdout",
     "output_type": "stream",
     "text": [
      "-----Start doing preprocessing-----\n",
      "These stories don't have a reveal border ['ASH01', 'CBSH10', 'LMSY03', 'MC03', 'GPM01', 'OSH05', 'TSOTR15', 'TEV02_02', 'TEV02_01']\n",
      "\n",
      "These stories are not annotated in input_form.csv {'TEV02': 'TEV02 - Cassie Côté(1).txt', 'TCD03': 'TCD03 - Wen W..txt', 'TCD02': 'TCD02 - Wen W..txt', 'TCD01': 'TCD01 - Wen W..txt'}\n",
      "Note, TEV02 are annotated, but seperated into TEV02_01 and TEV02_02 in input_form.csv.\n",
      "However, in plain_texts, TEV02 are two identical files. Since they are identical and they don't have a reveval border sentence, here we exclude them as well.\n",
      "\n",
      "These stories are not in data/plain_texts ['CKS21'] \n",
      "\n",
      "-----End Data Processing----- \n",
      " \n",
      " \n",
      "-----Start paritioning the story by reveal border sentence-----\n",
      "These cases really do not have reveal border, due to typo or other reasons ['OMIC04', 'ASH09', 'OMIC03', 'CKS53', 'PVDS41', 'CBSH05'] \n",
      "\n",
      "The number of files is correct.\n",
      "-----End partitioning and normalization-----\n",
      "\n",
      "-----Start calculating tf-idf score-----\n",
      "2254\n",
      "(335, 2254)\n",
      "-----End dumping the cluster result json file.-----\n",
      "Top terms per cluster:\n",
      "Cluster 0 words:\n",
      "Cluster 1 words:\n",
      "Cluster 2 words:\n"
     ]
    }
   ],
   "source": [
    "_, _, clusters_top_words = prep_cluster_result()"
   ]
  },
  {
   "cell_type": "code",
   "execution_count": 26,
   "metadata": {},
   "outputs": [
    {
     "data": {
      "text/plain": [
       "(['mrs',\n",
       "  'lady',\n",
       "  'miss',\n",
       "  'of her',\n",
       "  'wife',\n",
       "  'herself',\n",
       "  'girl',\n",
       "  'to her',\n",
       "  'that she',\n",
       "  'husband'],\n",
       " ['machine',\n",
       "  'thinking',\n",
       "  'miss',\n",
       "  'detective',\n",
       "  'said the',\n",
       "  'dr',\n",
       "  'mrs',\n",
       "  'girl',\n",
       "  'the girl',\n",
       "  'professor'])"
      ]
     },
     "execution_count": 26,
     "metadata": {},
     "output_type": "execute_result"
    }
   ],
   "source": [
    "clusters_top_words[0], clusters_top_words[1]"
   ]
  },
  {
   "cell_type": "code",
   "execution_count": 27,
   "metadata": {},
   "outputs": [
    {
     "data": {
      "text/plain": [
       "['doctor',\n",
       " 'said he',\n",
       " 'mrs',\n",
       " 'miss',\n",
       " 'cried',\n",
       " 'upon the',\n",
       " 'train',\n",
       " 'dr',\n",
       " 'father',\n",
       " 'round']"
      ]
     },
     "execution_count": 27,
     "metadata": {},
     "output_type": "execute_result"
    }
   ],
   "source": [
    "clusters_top_words[2]"
   ]
  },
  {
   "cell_type": "code",
   "execution_count": null,
   "metadata": {},
   "outputs": [],
   "source": []
  }
 ],
 "metadata": {
  "interpreter": {
   "hash": "52d6a642bc335378118b135aef0875a787de31b2f2bf0b4ff8a066b496e5a69f"
  },
  "kernelspec": {
   "display_name": "Python 3.8.0 64-bit ('sh': conda)",
   "language": "python",
   "name": "python3"
  },
  "language_info": {
   "codemirror_mode": {
    "name": "ipython",
    "version": 3
   },
   "file_extension": ".py",
   "mimetype": "text/x-python",
   "name": "python",
   "nbconvert_exporter": "python",
   "pygments_lexer": "ipython3",
   "version": "3.8.0"
  },
  "orig_nbformat": 4
 },
 "nbformat": 4,
 "nbformat_minor": 2
}
